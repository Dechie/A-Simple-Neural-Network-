{
  "nbformat": 4,
  "nbformat_minor": 0,
  "metadata": {
    "colab": {
      "provenance": [],
      "authorship_tag": "ABX9TyOv44bs+IJl/z+MiV5+dm+7",
      "include_colab_link": true
    },
    "kernelspec": {
      "name": "python3",
      "display_name": "Python 3"
    },
    "language_info": {
      "name": "python"
    }
  },
  "cells": [
    {
      "cell_type": "markdown",
      "metadata": {
        "id": "view-in-github",
        "colab_type": "text"
      },
      "source": [
        "<a href=\"https://colab.research.google.com/github/Dechie/A-Simple-Neural-Network-/blob/master/Simple%20Pytorch%20Implementation.ipynb\" target=\"_parent\"><img src=\"https://colab.research.google.com/assets/colab-badge.svg\" alt=\"Open In Colab\"/></a>"
      ]
    },
    {
      "cell_type": "markdown",
      "source": [
        "# **Pytorch Model**\n",
        "\n",
        "\n"
      ],
      "metadata": {
        "id": "6omXPBpO9MMj"
      }
    },
    {
      "cell_type": "markdown",
      "source": [
        "## **Step 1: Import libraries**"
      ],
      "metadata": {
        "id": "L4dLJLszDz-1"
      }
    },
    {
      "cell_type": "code",
      "source": [
        "import torch\n",
        "import torch.nn as nn # neural network?\n",
        "import torch.optim as optim # optimizer\n",
        "import numpy as np\n",
        "import matplotlib.pyplot as plt"
      ],
      "metadata": {
        "id": "1lfSm9Xd9YJi"
      },
      "execution_count": 38,
      "outputs": []
    },
    {
      "cell_type": "markdown",
      "source": [
        "## **Step 2: Generate Data**\n",
        "\n",
        "X Data: 2 dimensional numpy array\n",
        "\n",
        "Y data: 1 dimensional numpy array"
      ],
      "metadata": {
        "id": "Mth4Rhox92AX"
      }
    },
    {
      "cell_type": "code",
      "source": [
        "# create an array with values from 0 to 100\n",
        "X = np.array([x for x in range(100)])\n",
        "# reshape it to 2 dimensional array (vertical)\n",
        "X = X.reshape(-1, 1)\n",
        "\n",
        "# create a 1 dimensional array\n",
        "# (we will use x values)\n",
        "y = 46 + 2 * X.flatten()"
      ],
      "metadata": {
        "id": "Te09JziS9_Wx"
      },
      "execution_count": 39,
      "outputs": []
    },
    {
      "cell_type": "code",
      "source": [
        "X"
      ],
      "metadata": {
        "colab": {
          "base_uri": "https://localhost:8080/"
        },
        "id": "crzvhrUW-fXj",
        "outputId": "9f6809bd-01a7-488a-c154-f8fa8c677c71"
      },
      "execution_count": 40,
      "outputs": [
        {
          "output_type": "execute_result",
          "data": {
            "text/plain": [
              "array([[ 0],\n",
              "       [ 1],\n",
              "       [ 2],\n",
              "       [ 3],\n",
              "       [ 4],\n",
              "       [ 5],\n",
              "       [ 6],\n",
              "       [ 7],\n",
              "       [ 8],\n",
              "       [ 9],\n",
              "       [10],\n",
              "       [11],\n",
              "       [12],\n",
              "       [13],\n",
              "       [14],\n",
              "       [15],\n",
              "       [16],\n",
              "       [17],\n",
              "       [18],\n",
              "       [19],\n",
              "       [20],\n",
              "       [21],\n",
              "       [22],\n",
              "       [23],\n",
              "       [24],\n",
              "       [25],\n",
              "       [26],\n",
              "       [27],\n",
              "       [28],\n",
              "       [29],\n",
              "       [30],\n",
              "       [31],\n",
              "       [32],\n",
              "       [33],\n",
              "       [34],\n",
              "       [35],\n",
              "       [36],\n",
              "       [37],\n",
              "       [38],\n",
              "       [39],\n",
              "       [40],\n",
              "       [41],\n",
              "       [42],\n",
              "       [43],\n",
              "       [44],\n",
              "       [45],\n",
              "       [46],\n",
              "       [47],\n",
              "       [48],\n",
              "       [49],\n",
              "       [50],\n",
              "       [51],\n",
              "       [52],\n",
              "       [53],\n",
              "       [54],\n",
              "       [55],\n",
              "       [56],\n",
              "       [57],\n",
              "       [58],\n",
              "       [59],\n",
              "       [60],\n",
              "       [61],\n",
              "       [62],\n",
              "       [63],\n",
              "       [64],\n",
              "       [65],\n",
              "       [66],\n",
              "       [67],\n",
              "       [68],\n",
              "       [69],\n",
              "       [70],\n",
              "       [71],\n",
              "       [72],\n",
              "       [73],\n",
              "       [74],\n",
              "       [75],\n",
              "       [76],\n",
              "       [77],\n",
              "       [78],\n",
              "       [79],\n",
              "       [80],\n",
              "       [81],\n",
              "       [82],\n",
              "       [83],\n",
              "       [84],\n",
              "       [85],\n",
              "       [86],\n",
              "       [87],\n",
              "       [88],\n",
              "       [89],\n",
              "       [90],\n",
              "       [91],\n",
              "       [92],\n",
              "       [93],\n",
              "       [94],\n",
              "       [95],\n",
              "       [96],\n",
              "       [97],\n",
              "       [98],\n",
              "       [99]])"
            ]
          },
          "metadata": {},
          "execution_count": 40
        }
      ]
    },
    {
      "cell_type": "code",
      "source": [
        "y"
      ],
      "metadata": {
        "colab": {
          "base_uri": "https://localhost:8080/"
        },
        "id": "IRpmsExv-gt3",
        "outputId": "7287fd7b-c97e-425e-857c-3528f672fd05"
      },
      "execution_count": 41,
      "outputs": [
        {
          "output_type": "execute_result",
          "data": {
            "text/plain": [
              "array([ 46,  48,  50,  52,  54,  56,  58,  60,  62,  64,  66,  68,  70,\n",
              "        72,  74,  76,  78,  80,  82,  84,  86,  88,  90,  92,  94,  96,\n",
              "        98, 100, 102, 104, 106, 108, 110, 112, 114, 116, 118, 120, 122,\n",
              "       124, 126, 128, 130, 132, 134, 136, 138, 140, 142, 144, 146, 148,\n",
              "       150, 152, 154, 156, 158, 160, 162, 164, 166, 168, 170, 172, 174,\n",
              "       176, 178, 180, 182, 184, 186, 188, 190, 192, 194, 196, 198, 200,\n",
              "       202, 204, 206, 208, 210, 212, 214, 216, 218, 220, 222, 224, 226,\n",
              "       228, 230, 232, 234, 236, 238, 240, 242, 244])"
            ]
          },
          "metadata": {},
          "execution_count": 41
        }
      ]
    },
    {
      "cell_type": "markdown",
      "source": [
        "### Plot the data"
      ],
      "metadata": {
        "id": "Kc7LYPB--3lW"
      }
    },
    {
      "cell_type": "code",
      "source": [
        "plt.scatter(X, y, label=\"Initial Data\")\n",
        "plt.title('Pre Pytorch')\n",
        "plt.xlabel('X')\n",
        "plt.ylabel('y')\n",
        "plt.legend()\n",
        "plt.show()"
      ],
      "metadata": {
        "colab": {
          "base_uri": "https://localhost:8080/",
          "height": 472
        },
        "id": "g0bs4FkJ-42F",
        "outputId": "dcf8ad42-d4bc-4c4a-dd68-deb67b8ae3cb"
      },
      "execution_count": 42,
      "outputs": [
        {
          "output_type": "display_data",
          "data": {
            "text/plain": [
              "<Figure size 640x480 with 1 Axes>"
            ],
            "image/png": "[encoded data removed]"
          },
          "metadata": {}
        }
      ]
    },
    {
      "cell_type": "markdown",
      "source": [
        "## **Step 3: Turn Data To Tensors**\n",
        "\n",
        "### **First Normalize Data**\n",
        "\n",
        "We Use z-score to normalize the data:\n",
        "\n",
        "`z = (values - mean) / (standard_deviation)`\n",
        "\n",
        "### Then Use the normalized with the pytorch's tensor method to produced the tensor"
      ],
      "metadata": {
        "id": "x_lAbID4_W-e"
      }
    },
    {
      "cell_type": "code",
      "source": [
        "x_mean, x_std = X.mean(), X.std()\n",
        "\n",
        "X_normalized = (X - x_mean) / x_std\n",
        "\n",
        "X_tensor = torch.tensor(X_normalized, dtype=torch.float32)\n",
        "\n",
        "print(X_tensor.shape)"
      ],
      "metadata": {
        "colab": {
          "base_uri": "https://localhost:8080/"
        },
        "id": "vf_JUh0b_Z0Z",
        "outputId": "ade3f80c-7c7e-471c-fe7c-560710048d32"
      },
      "execution_count": 43,
      "outputs": [
        {
          "output_type": "stream",
          "name": "stdout",
          "text": [
            "torch.Size([100, 1])\n"
          ]
        }
      ]
    },
    {
      "cell_type": "code",
      "source": [
        "y_mean, y_std = y.mean(), y.std()\n",
        "\n",
        "y_normalized = (y - y_mean) / y_std\n",
        "\n",
        "y_tensor = torch.tensor(y_normalized, dtype=torch.float32)\n",
        "\n",
        "print(y_tensor.shape)"
      ],
      "metadata": {
        "colab": {
          "base_uri": "https://localhost:8080/"
        },
        "outputId": "4b0a4b11-49a4-4eb1-882c-baabfd621406",
        "id": "slwOWd-fAoKe"
      },
      "execution_count": 44,
      "outputs": [
        {
          "output_type": "stream",
          "name": "stdout",
          "text": [
            "torch.Size([100])\n"
          ]
        }
      ]
    },
    {
      "cell_type": "markdown",
      "source": [
        "### Plot the normalized values:"
      ],
      "metadata": {
        "id": "nvpADIveA2Np"
      }
    },
    {
      "cell_type": "code",
      "source": [
        "plt.scatter(X_normalized, y_normalized, label=\"Initial Data\")\n",
        "plt.title('Normalized Values')\n",
        "plt.xlabel('X')\n",
        "plt.ylabel('y')\n",
        "plt.legend()\n",
        "plt.show()"
      ],
      "metadata": {
        "colab": {
          "base_uri": "https://localhost:8080/",
          "height": 472
        },
        "id": "zL3lDU7KA4YJ",
        "outputId": "48998888-0b3b-45ca-b175-349bac658aac"
      },
      "execution_count": 45,
      "outputs": [
        {
          "output_type": "display_data",
          "data": {
            "text/plain": [
              "<Figure size 640x480 with 1 Axes>"
            ],
            "image/png": "[encoded data removed]"
          },
          "metadata": {}
        }
      ]
    },
    {
      "cell_type": "markdown",
      "source": [
        "## **Step 4: Linear Regression Model**"
      ],
      "metadata": {
        "id": "tHeHG1rTBXSI"
      }
    },
    {
      "cell_type": "code",
      "source": [
        "class LinearRegressionModel(nn.Module):\n",
        "  def __init__(self, in_features, out_features):\n",
        "    super().__init__()\n",
        "    self.linear = nn.Linear(in_features, out_features)\n",
        "\n",
        "  # feed forward\n",
        "  def forward(self, x):\n",
        "    return self.linear(x).squeeze(1)"
      ],
      "metadata": {
        "id": "Yd3_dzsJBd-C"
      },
      "execution_count": 46,
      "outputs": []
    },
    {
      "cell_type": "markdown",
      "source": [
        "## **Step 5: Train the Model**\n",
        "### **5.1 Define in features and out features**\n"
      ],
      "metadata": {
        "id": "1zgxEXdZC4Pj"
      }
    },
    {
      "cell_type": "code",
      "source": [
        "in_features = 1\n",
        "out_features = 1\n",
        "model = LinearRegressionModel(in_features, out_features)"
      ],
      "metadata": {
        "id": "4rn62EOCDGF2"
      },
      "execution_count": 47,
      "outputs": []
    },
    {
      "cell_type": "markdown",
      "source": [
        "### **Note:**\n",
        "In this `LinearRegressionModel` class, `in_features` and `out_features` represent the dimensions of the input and output features, respectively, for the linear transformation.\n",
        "\n",
        "- `in_features`: This parameter specifies the number of input features to the model. It defines the size of the input tensor that will be fed into the linear layer.\n",
        "  \n",
        "- `out_features`: This parameter specifies the number of output features produced by the linear transformation. It defines the size of the output tensor generated by the linear layer.\n",
        "\n",
        "For example, if you're performing linear regression on a dataset with 10 input features (such as 10 different explanatory variables) and trying to predict a single output value (such as the target variable), you would instantiate the `LinearRegressionModel` with `in_features=10` and `out_features=1`."
      ],
      "metadata": {
        "id": "jEJPc0CgCY9c"
      }
    },
    {
      "cell_type": "markdown",
      "source": [
        "### **5.2 Loss Function and Gradient Descent**"
      ],
      "metadata": {
        "id": "aYpM3QS_D7v_"
      }
    },
    {
      "cell_type": "code",
      "source": [
        "criterion = nn.MSELoss()\n",
        "optimizer = optim.SGD(model.parameters(), lr=0.1)\n",
        "\n",
        "# MSELoss => mean squared error\n",
        "# SGD => stochastic gradient descent... w = w += learning_rate * gradient\n",
        "# lr => learning rate"
      ],
      "metadata": {
        "id": "jJ81gqP_EFEH"
      },
      "execution_count": 48,
      "outputs": []
    },
    {
      "cell_type": "markdown",
      "source": [
        "### **5.3 Train the model over epochs**"
      ],
      "metadata": {
        "id": "WRHB4BPCElEU"
      }
    },
    {
      "cell_type": "code",
      "source": [
        "num_epochs = 15\n",
        "\n",
        "for epoch in range(num_epochs):\n",
        "  # forward pass (feef forward)\n",
        "  outputs = model(X_tensor)\n",
        "\n",
        "  # calculate loss\n",
        "  loss = criterion(outputs, y_tensor)\n",
        "\n",
        "  # backward pass (back propagation) and optimization\n",
        "  optimizer.zero_grad()\n",
        "  loss.backward() # feed the loss back to previous levels\n",
        "  optimizer.step()\n",
        "\n",
        "  print(f'Epoch [{epoch + 1}/{num_epochs}], Loss: {loss.item():.2f}')"
      ],
      "metadata": {
        "colab": {
          "base_uri": "https://localhost:8080/"
        },
        "id": "GyZ4JkvsEukY",
        "outputId": "147fea10-1805-48d0-f425-24945b5f0604"
      },
      "execution_count": 49,
      "outputs": [
        {
          "output_type": "stream",
          "name": "stdout",
          "text": [
            "Epoch [1/15], Loss: 0.61\n",
            "Epoch [2/15], Loss: 0.39\n",
            "Epoch [3/15], Loss: 0.25\n",
            "Epoch [4/15], Loss: 0.16\n",
            "Epoch [5/15], Loss: 0.10\n",
            "Epoch [6/15], Loss: 0.07\n",
            "Epoch [7/15], Loss: 0.04\n",
            "Epoch [8/15], Loss: 0.03\n",
            "Epoch [9/15], Loss: 0.02\n",
            "Epoch [10/15], Loss: 0.01\n",
            "Epoch [11/15], Loss: 0.01\n",
            "Epoch [12/15], Loss: 0.00\n",
            "Epoch [13/15], Loss: 0.00\n",
            "Epoch [14/15], Loss: 0.00\n",
            "Epoch [15/15], Loss: 0.00\n"
          ]
        }
      ]
    },
    {
      "cell_type": "markdown",
      "source": [
        "## **6. Test Model on new Data**\n",
        "\n"
      ],
      "metadata": {
        "id": "dRapvl-ZG0Q1"
      }
    },
    {
      "cell_type": "markdown",
      "source": [
        "We feed the model a new X value, and it should return a y value according to the data provided.\n",
        "\n",
        "In this case the data is following a linear function, i.e.,\n",
        "  \n",
        "  `y = 46 + 2x`\n",
        "\n",
        "Therefore any new value we feed it must fit this value.\n",
        "\n",
        "For example, if we feed it `x = 121`, the output should be:\n",
        "  `y = 46 + (2 * 121) = 288`.\n",
        "\n",
        "So let's try it.\n",
        "\n",
        "In order to feed the value to the model, we follow the following steps.\n",
        "\n",
        "1. Normalize the value,\n",
        "2. Create tensor from the normalized value\n",
        "3. Feed the tensor to the model.\n",
        "4. Take the output of the model, de-normalize it (i.e., work backwards from normalized value to what would be its original value). The way to do this is, i.e., to denormalize x from array of X_values:\n",
        "\n",
        "  `x_denorm = x_normalized * x_standard_deviation + x_mean`"
      ],
      "metadata": {
        "id": "9B0KeBu7KaAA"
      }
    },
    {
      "cell_type": "code",
      "source": [
        "# new value x:\n",
        "new_x = 121\n",
        "\n",
        "# normalize x:\n",
        "new_x_normalized = (new_x - x_mean) / x_std\n",
        "\n",
        "# create tensor:\n",
        "new_x_tensor = torch.tensor(new_x_normalized, dtype = torch.float32).view(1, -1)\n",
        "\n",
        "# feed tensor to model\n",
        "model.eval()\n",
        "\n",
        "# no grad runs the model faster (with no gradient descent, presumably?)\n",
        "with torch.no_grad():\n",
        "  prediction_normalized = model(new_x_tensor)\n",
        "\n",
        "# denormalize output\n",
        "prediction_denormalized = prediction_normalized.item() * y_std + y_mean\n",
        "\n",
        "print(f\"Predicted Value for X = {new_x}: {prediction_denormalized}\")"
      ],
      "metadata": {
        "colab": {
          "base_uri": "https://localhost:8080/"
        },
        "id": "ApnCSPjqHc8z",
        "outputId": "926735db-bb24-4b73-9dfb-c894c40165cc"
      },
      "execution_count": 50,
      "outputs": [
        {
          "output_type": "stream",
          "name": "stdout",
          "text": [
            "Predicted Value for X = 121: 285.5028381191361\n"
          ]
        }
      ]
    },
    {
      "cell_type": "markdown",
      "source": [
        "## **7. Evaluation of Output (Performance)**\n",
        "\n",
        "In The above Example, The expected value was `288`, while the model's output was `285`. So It was not that far off :))\n",
        "\n",
        "\n",
        "Now Let's plot all the X and Y values in the arrays as predicted by the model:"
      ],
      "metadata": {
        "id": "O0xsS69fJiMR"
      }
    },
    {
      "cell_type": "code",
      "source": [
        "# display the data curve and the model output's curve\n",
        "# on top of another\n",
        "\n",
        "# fit X values and normal y values\n",
        "plt.scatter(X, y, label=\"Initial Data\")\n",
        "\n",
        "# fit X values and prediction values\n",
        "# de-normalize predictions\n",
        "fit_line = model(X_tensor).detach().numpy() * y_std + y_mean\n",
        "plt.plot(X, fit_line, 'r', label='Pytorch Line')\n",
        "\n",
        "plt.legend()\n",
        "plt.title('PyTorch with Predictions')\n",
        "plt.xlabel('X')\n",
        "plt.ylabel('y')\n",
        "plt.show()"
      ],
      "metadata": {
        "colab": {
          "base_uri": "https://localhost:8080/",
          "height": 472
        },
        "id": "6tcpMaBDJRd5",
        "outputId": "7ff67bf0-afc5-408c-ab9a-72e0b2a37ff1"
      },
      "execution_count": 55,
      "outputs": [
        {
          "output_type": "display_data",
          "data": {
            "text/plain": [
              "<Figure size 640x480 with 1 Axes>"
            ],
            "image/png": "[encoded data removed]"
          },
          "metadata": {}
        }
      ]
    },
    {
      "cell_type": "code",
      "source": [],
      "metadata": {
        "id": "rH5BSf20LYpc"
      },
      "execution_count": null,
      "outputs": []
    }
  ]
}